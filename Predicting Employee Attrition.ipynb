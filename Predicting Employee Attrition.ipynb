{
 "cells": [
  {
   "cell_type": "code",
   "execution_count": 1,
   "id": "5d5d9ec7",
   "metadata": {},
   "outputs": [],
   "source": [
    "import pandas as pd"
   ]
  },
  {
   "cell_type": "code",
   "execution_count": 2,
   "id": "e2b83de0",
   "metadata": {},
   "outputs": [],
   "source": [
    "import numpy as np"
   ]
  },
  {
   "cell_type": "code",
   "execution_count": 4,
   "id": "5325a450",
   "metadata": {},
   "outputs": [
    {
     "name": "stdout",
     "output_type": "stream",
     "text": [
      "Collecting textblob\n",
      "  Obtaining dependency information for textblob from https://files.pythonhosted.org/packages/1e/d6/40aa5aead775582ea0cf35870e5a3f16fab4b967f1ad2debe675f673f923/textblob-0.19.0-py3-none-any.whl.metadata\n",
      "  Downloading textblob-0.19.0-py3-none-any.whl.metadata (4.4 kB)\n",
      "Collecting nltk>=3.9 (from textblob)\n",
      "  Obtaining dependency information for nltk>=3.9 from https://files.pythonhosted.org/packages/4d/66/7d9e26593edda06e8cb531874633f7c2372279c3b0f46235539fe546df8b/nltk-3.9.1-py3-none-any.whl.metadata\n",
      "  Downloading nltk-3.9.1-py3-none-any.whl.metadata (2.9 kB)\n",
      "Requirement already satisfied: click in c:\\users\\sec\\anaconda3\\lib\\site-packages (from nltk>=3.9->textblob) (8.0.4)\n",
      "Requirement already satisfied: joblib in c:\\users\\sec\\anaconda3\\lib\\site-packages (from nltk>=3.9->textblob) (1.2.0)\n",
      "Requirement already satisfied: regex>=2021.8.3 in c:\\users\\sec\\anaconda3\\lib\\site-packages (from nltk>=3.9->textblob) (2022.7.9)\n",
      "Requirement already satisfied: tqdm in c:\\users\\sec\\anaconda3\\lib\\site-packages (from nltk>=3.9->textblob) (4.65.0)\n",
      "Requirement already satisfied: colorama in c:\\users\\sec\\anaconda3\\lib\\site-packages (from click->nltk>=3.9->textblob) (0.4.6)\n",
      "Downloading textblob-0.19.0-py3-none-any.whl (624 kB)\n",
      "   ---------------------------------------- 0.0/624.3 kB ? eta -:--:--\n",
      "    --------------------------------------- 10.2/624.3 kB ? eta -:--:--\n",
      "   ------------ --------------------------- 194.6/624.3 kB 3.0 MB/s eta 0:00:01\n",
      "   ---------------------------------- ----- 532.5/624.3 kB 5.6 MB/s eta 0:00:01\n",
      "   ---------------------------------------- 624.3/624.3 kB 4.4 MB/s eta 0:00:00\n",
      "Downloading nltk-3.9.1-py3-none-any.whl (1.5 MB)\n",
      "   ---------------------------------------- 0.0/1.5 MB ? eta -:--:--\n",
      "   -------- ------------------------------- 0.3/1.5 MB 18.6 MB/s eta 0:00:01\n",
      "   -------------------- ------------------- 0.8/1.5 MB 8.0 MB/s eta 0:00:01\n",
      "   -------------------------------------- - 1.5/1.5 MB 10.2 MB/s eta 0:00:01\n",
      "   ---------------------------------------- 1.5/1.5 MB 9.6 MB/s eta 0:00:00\n",
      "Installing collected packages: nltk, textblob\n",
      "  Attempting uninstall: nltk\n",
      "    Found existing installation: nltk 3.8.1\n",
      "    Uninstalling nltk-3.8.1:\n",
      "      Successfully uninstalled nltk-3.8.1\n",
      "Successfully installed nltk-3.9.1 textblob-0.19.0\n"
     ]
    }
   ],
   "source": [
    "!pip install textblob"
   ]
  },
  {
   "cell_type": "code",
   "execution_count": 5,
   "id": "ec7870c6",
   "metadata": {},
   "outputs": [],
   "source": [
    "from textblob import TextBlob"
   ]
  },
  {
   "cell_type": "code",
   "execution_count": 6,
   "id": "d74f2bc6",
   "metadata": {},
   "outputs": [],
   "source": [
    "#regular expression\n",
    "import re"
   ]
  },
  {
   "cell_type": "code",
   "execution_count": 7,
   "id": "d6ecdfbb",
   "metadata": {},
   "outputs": [],
   "source": [
    "from sklearn.model_selection import train_test_split"
   ]
  },
  {
   "cell_type": "code",
   "execution_count": 8,
   "id": "b5591ad4",
   "metadata": {},
   "outputs": [],
   "source": [
    "from sklearn.ensemble import RandomForestClassifier"
   ]
  },
  {
   "cell_type": "code",
   "execution_count": 9,
   "id": "769fc86a",
   "metadata": {},
   "outputs": [],
   "source": [
    "from sklearn.metrics import classification_report,accuracy_score"
   ]
  },
  {
   "cell_type": "code",
   "execution_count": 10,
   "id": "e8f828ba",
   "metadata": {},
   "outputs": [],
   "source": [
    "import matplotlib.pyplot as plt"
   ]
  },
  {
   "cell_type": "code",
   "execution_count": 11,
   "id": "b7d0c84a",
   "metadata": {},
   "outputs": [],
   "source": [
    "import seaborn as sns"
   ]
  },
  {
   "cell_type": "code",
   "execution_count": 13,
   "id": "1bc12fe7",
   "metadata": {},
   "outputs": [
    {
     "name": "stdout",
     "output_type": "stream",
     "text": [
      "Collecting shap\n",
      "  Obtaining dependency information for shap from https://files.pythonhosted.org/packages/e5/bb/dc75933de86e6076f58cf68325877be952a97a371c26b252013f1258a5a7/shap-0.47.2-cp311-cp311-win_amd64.whl.metadata\n",
      "  Downloading shap-0.47.2-cp311-cp311-win_amd64.whl.metadata (25 kB)\n",
      "Requirement already satisfied: numpy in c:\\users\\sec\\anaconda3\\lib\\site-packages (from shap) (1.24.3)\n",
      "Requirement already satisfied: scipy in c:\\users\\sec\\anaconda3\\lib\\site-packages (from shap) (1.11.1)\n",
      "Requirement already satisfied: scikit-learn in c:\\users\\sec\\anaconda3\\lib\\site-packages (from shap) (1.3.0)\n",
      "Requirement already satisfied: pandas in c:\\users\\sec\\anaconda3\\lib\\site-packages (from shap) (2.0.3)\n",
      "Requirement already satisfied: tqdm>=4.27.0 in c:\\users\\sec\\anaconda3\\lib\\site-packages (from shap) (4.65.0)\n",
      "Requirement already satisfied: packaging>20.9 in c:\\users\\sec\\anaconda3\\lib\\site-packages (from shap) (23.1)\n",
      "Collecting slicer==0.0.8 (from shap)\n",
      "  Obtaining dependency information for slicer==0.0.8 from https://files.pythonhosted.org/packages/63/81/9ef641ff4e12cbcca30e54e72fb0951a2ba195d0cda0ba4100e532d929db/slicer-0.0.8-py3-none-any.whl.metadata\n",
      "  Downloading slicer-0.0.8-py3-none-any.whl.metadata (4.0 kB)\n",
      "Requirement already satisfied: numba>=0.54 in c:\\users\\sec\\anaconda3\\lib\\site-packages (from shap) (0.57.1)\n",
      "Requirement already satisfied: cloudpickle in c:\\users\\sec\\anaconda3\\lib\\site-packages (from shap) (2.2.1)\n",
      "Requirement already satisfied: typing-extensions in c:\\users\\sec\\anaconda3\\lib\\site-packages (from shap) (4.7.1)\n",
      "Requirement already satisfied: llvmlite<0.41,>=0.40.0dev0 in c:\\users\\sec\\anaconda3\\lib\\site-packages (from numba>=0.54->shap) (0.40.0)\n",
      "Requirement already satisfied: colorama in c:\\users\\sec\\anaconda3\\lib\\site-packages (from tqdm>=4.27.0->shap) (0.4.6)\n",
      "Requirement already satisfied: python-dateutil>=2.8.2 in c:\\users\\sec\\anaconda3\\lib\\site-packages (from pandas->shap) (2.8.2)\n",
      "Requirement already satisfied: pytz>=2020.1 in c:\\users\\sec\\anaconda3\\lib\\site-packages (from pandas->shap) (2023.3.post1)\n",
      "Requirement already satisfied: tzdata>=2022.1 in c:\\users\\sec\\anaconda3\\lib\\site-packages (from pandas->shap) (2023.3)\n",
      "Requirement already satisfied: joblib>=1.1.1 in c:\\users\\sec\\anaconda3\\lib\\site-packages (from scikit-learn->shap) (1.2.0)\n",
      "Requirement already satisfied: threadpoolctl>=2.0.0 in c:\\users\\sec\\anaconda3\\lib\\site-packages (from scikit-learn->shap) (2.2.0)\n",
      "Requirement already satisfied: six>=1.5 in c:\\users\\sec\\anaconda3\\lib\\site-packages (from python-dateutil>=2.8.2->pandas->shap) (1.16.0)\n",
      "Downloading shap-0.47.2-cp311-cp311-win_amd64.whl (544 kB)\n",
      "   ---------------------------------------- 0.0/544.4 kB ? eta -:--:--\n",
      "   --------- ------------------------------ 122.9/544.4 kB 3.6 MB/s eta 0:00:01\n",
      "   ------------------------------ --------- 409.6/544.4 kB 5.1 MB/s eta 0:00:01\n",
      "   ---------------------------------------- 544.4/544.4 kB 4.9 MB/s eta 0:00:00\n",
      "Downloading slicer-0.0.8-py3-none-any.whl (15 kB)\n",
      "Installing collected packages: slicer, shap\n",
      "Successfully installed shap-0.47.2 slicer-0.0.8\n"
     ]
    }
   ],
   "source": [
    "!pip install shap"
   ]
  },
  {
   "cell_type": "code",
   "execution_count": 14,
   "id": "8a670e06",
   "metadata": {},
   "outputs": [],
   "source": [
    "import shap"
   ]
  },
  {
   "cell_type": "code",
   "execution_count": 15,
   "id": "a830993b",
   "metadata": {},
   "outputs": [],
   "source": [
    "data = {\n",
    "    'Employee_ID': ['E001', 'E002', 'E003', 'E004', 'E005', 'E006', 'E007', 'E008', 'E009', 'E010'],\n",
    "    'Email_Text': [\n",
    "        \"I feel overwhelmed with the workload and I'm unsure about the deadlines.\",\n",
    "        \"Everything is going well, looking forward to the team meeting tomorrow.\",\n",
    "        \"I'm finding it hard to manage everything, I need more time.\",\n",
    "        \"I'm happy with the tasks and the project, everything is manageable.\",\n",
    "        \"Not sure how long I can keep up with all these deadlines, feeling exhausted.\",\n",
    "        \"The project is going well, but I wish we had more resources.\",\n",
    "        \"I'm a bit stressed about the workload, but trying to manage.\",\n",
    "        \"Everything seems to be going fine, but the pressure is building.\",\n",
    "        \"I need more time to finish everything. It's overwhelming.\",\n",
    "        \"Everything is okay for now, but I feel a little disconnected.\"\n",
    "    ],\n",
    "    'Attrition_Label': ['At Risk', 'Stable', 'At Risk', 'Stable', 'At Risk', 'Stable', 'At Risk', 'Stable', 'At Risk', 'Stable']\n",
    "}"
   ]
  },
  {
   "cell_type": "code",
   "execution_count": 16,
   "id": "6912da8f",
   "metadata": {},
   "outputs": [],
   "source": [
    "df=pd.DataFrame(data)"
   ]
  },
  {
   "cell_type": "code",
   "execution_count": 17,
   "id": "a885248f",
   "metadata": {},
   "outputs": [
    {
     "data": {
      "text/html": [
       "<div>\n",
       "<style scoped>\n",
       "    .dataframe tbody tr th:only-of-type {\n",
       "        vertical-align: middle;\n",
       "    }\n",
       "\n",
       "    .dataframe tbody tr th {\n",
       "        vertical-align: top;\n",
       "    }\n",
       "\n",
       "    .dataframe thead th {\n",
       "        text-align: right;\n",
       "    }\n",
       "</style>\n",
       "<table border=\"1\" class=\"dataframe\">\n",
       "  <thead>\n",
       "    <tr style=\"text-align: right;\">\n",
       "      <th></th>\n",
       "      <th>Employee_ID</th>\n",
       "      <th>Email_Text</th>\n",
       "      <th>Attrition_Label</th>\n",
       "    </tr>\n",
       "  </thead>\n",
       "  <tbody>\n",
       "    <tr>\n",
       "      <th>0</th>\n",
       "      <td>E001</td>\n",
       "      <td>I feel overwhelmed with the workload and I'm u...</td>\n",
       "      <td>At Risk</td>\n",
       "    </tr>\n",
       "    <tr>\n",
       "      <th>1</th>\n",
       "      <td>E002</td>\n",
       "      <td>Everything is going well, looking forward to t...</td>\n",
       "      <td>Stable</td>\n",
       "    </tr>\n",
       "    <tr>\n",
       "      <th>2</th>\n",
       "      <td>E003</td>\n",
       "      <td>I'm finding it hard to manage everything, I ne...</td>\n",
       "      <td>At Risk</td>\n",
       "    </tr>\n",
       "    <tr>\n",
       "      <th>3</th>\n",
       "      <td>E004</td>\n",
       "      <td>I'm happy with the tasks and the project, ever...</td>\n",
       "      <td>Stable</td>\n",
       "    </tr>\n",
       "    <tr>\n",
       "      <th>4</th>\n",
       "      <td>E005</td>\n",
       "      <td>Not sure how long I can keep up with all these...</td>\n",
       "      <td>At Risk</td>\n",
       "    </tr>\n",
       "  </tbody>\n",
       "</table>\n",
       "</div>"
      ],
      "text/plain": [
       "  Employee_ID                                         Email_Text  \\\n",
       "0        E001  I feel overwhelmed with the workload and I'm u...   \n",
       "1        E002  Everything is going well, looking forward to t...   \n",
       "2        E003  I'm finding it hard to manage everything, I ne...   \n",
       "3        E004  I'm happy with the tasks and the project, ever...   \n",
       "4        E005  Not sure how long I can keep up with all these...   \n",
       "\n",
       "  Attrition_Label  \n",
       "0         At Risk  \n",
       "1          Stable  \n",
       "2         At Risk  \n",
       "3          Stable  \n",
       "4         At Risk  "
      ]
     },
     "execution_count": 17,
     "metadata": {},
     "output_type": "execute_result"
    }
   ],
   "source": [
    "df.head()"
   ]
  },
  {
   "cell_type": "code",
   "execution_count": 18,
   "id": "2b8cb9dc",
   "metadata": {},
   "outputs": [],
   "source": [
    "def clean_text(text):\n",
    "    text=re.sub(r'\\s+',' ',text)\n",
    "    text=re.sub(r'[^\\w\\s]','',text)\n",
    "    text=text.lower()\n",
    "    return text"
   ]
  },
  {
   "cell_type": "code",
   "execution_count": 20,
   "id": "2f447661",
   "metadata": {},
   "outputs": [],
   "source": [
    "df['Cleaned_Email']=df['Email_Text'].apply(clean_text)"
   ]
  },
  {
   "cell_type": "code",
   "execution_count": 21,
   "id": "3d86f98a",
   "metadata": {},
   "outputs": [],
   "source": [
    "def get_sentiment(text):\n",
    "    return TextBlob(text).sentiment.polarity"
   ]
  },
  {
   "cell_type": "code",
   "execution_count": 31,
   "id": "b269d741",
   "metadata": {},
   "outputs": [],
   "source": [
    "def get_word_ratios(text):\n",
    "    positive_words = [\"good\", \"great\", \"fantastic\", \"excited\", \"happy\", \"satisfied\"]\n",
    "    negative_words = [\"stress\", \"overwhelmed\", \"disappointed\", \"unhappy\", \"exhausted\", \"angry\"]\n",
    "\n",
    "    positive_count = sum(1 for word in text.split() if word in positive_words)\n",
    "    negative_count = sum(1 for word in text.split() if word in negative_words)\n",
    "    total_count = len(text.split())\n",
    "\n",
    "    positive_ratio = positive_count / total_count if total_count != 0 else 0\n",
    "    negative_ratio = negative_count / total_count if total_count != 0 else 0\n",
    "\n",
    "    return positive_ratio, negative_ratio"
   ]
  },
  {
   "cell_type": "code",
   "execution_count": 32,
   "id": "c7c69c72",
   "metadata": {},
   "outputs": [],
   "source": [
    "df['Sentiment_polarity']=df['Cleaned_Email'].apply(get_sentiment)"
   ]
  },
  {
   "cell_type": "code",
   "execution_count": 33,
   "id": "b35f7018",
   "metadata": {},
   "outputs": [],
   "source": [
    "df['postive_word_ratio'],df['negative_word_ratio']=zip(*df['Cleaned_Email'].apply(get_word_ratios))"
   ]
  },
  {
   "cell_type": "code",
   "execution_count": 34,
   "id": "4196bcaa",
   "metadata": {},
   "outputs": [],
   "source": [
    "df['word_count']=df['Cleaned_Email'].apply(lambda x: sum(1 for word in x.split()))"
   ]
  },
  {
   "cell_type": "code",
   "execution_count": 35,
   "id": "386d4ecc",
   "metadata": {},
   "outputs": [],
   "source": [
    "stress_terms=['stressed','overwhelmed','exahausted','burnout']"
   ]
  },
  {
   "cell_type": "code",
   "execution_count": 36,
   "id": "ddd21c02",
   "metadata": {},
   "outputs": [],
   "source": [
    "df['Stress_Term_Frequency']=df['Cleaned_Email'].apply(lambda x: sum(1 for word in x.split() if word in stress_terms))"
   ]
  },
  {
   "cell_type": "code",
   "execution_count": 37,
   "id": "1af9d2ed",
   "metadata": {},
   "outputs": [
    {
     "data": {
      "text/html": [
       "<div>\n",
       "<style scoped>\n",
       "    .dataframe tbody tr th:only-of-type {\n",
       "        vertical-align: middle;\n",
       "    }\n",
       "\n",
       "    .dataframe tbody tr th {\n",
       "        vertical-align: top;\n",
       "    }\n",
       "\n",
       "    .dataframe thead th {\n",
       "        text-align: right;\n",
       "    }\n",
       "</style>\n",
       "<table border=\"1\" class=\"dataframe\">\n",
       "  <thead>\n",
       "    <tr style=\"text-align: right;\">\n",
       "      <th></th>\n",
       "      <th>Employee_ID</th>\n",
       "      <th>Email_Text</th>\n",
       "      <th>Attrition_Label</th>\n",
       "      <th>Cleaned_Email</th>\n",
       "      <th>Sentiment_polarity</th>\n",
       "      <th>postive_word_ratio</th>\n",
       "      <th>negative_word_ratio</th>\n",
       "      <th>word_count</th>\n",
       "      <th>Stress_Term_Frequency</th>\n",
       "    </tr>\n",
       "  </thead>\n",
       "  <tbody>\n",
       "    <tr>\n",
       "      <th>0</th>\n",
       "      <td>E001</td>\n",
       "      <td>I feel overwhelmed with the workload and I'm u...</td>\n",
       "      <td>At Risk</td>\n",
       "      <td>i feel overwhelmed with the workload and im un...</td>\n",
       "      <td>0.000000</td>\n",
       "      <td>0.000000</td>\n",
       "      <td>0.083333</td>\n",
       "      <td>12</td>\n",
       "      <td>1</td>\n",
       "    </tr>\n",
       "    <tr>\n",
       "      <th>1</th>\n",
       "      <td>E002</td>\n",
       "      <td>Everything is going well, looking forward to t...</td>\n",
       "      <td>Stable</td>\n",
       "      <td>everything is going well looking forward to th...</td>\n",
       "      <td>0.000000</td>\n",
       "      <td>0.000000</td>\n",
       "      <td>0.000000</td>\n",
       "      <td>11</td>\n",
       "      <td>0</td>\n",
       "    </tr>\n",
       "    <tr>\n",
       "      <th>2</th>\n",
       "      <td>E003</td>\n",
       "      <td>I'm finding it hard to manage everything, I ne...</td>\n",
       "      <td>At Risk</td>\n",
       "      <td>im finding it hard to manage everything i need...</td>\n",
       "      <td>0.104167</td>\n",
       "      <td>0.000000</td>\n",
       "      <td>0.000000</td>\n",
       "      <td>11</td>\n",
       "      <td>0</td>\n",
       "    </tr>\n",
       "    <tr>\n",
       "      <th>3</th>\n",
       "      <td>E004</td>\n",
       "      <td>I'm happy with the tasks and the project, ever...</td>\n",
       "      <td>Stable</td>\n",
       "      <td>im happy with the tasks and the project everyt...</td>\n",
       "      <td>0.800000</td>\n",
       "      <td>0.090909</td>\n",
       "      <td>0.000000</td>\n",
       "      <td>11</td>\n",
       "      <td>0</td>\n",
       "    </tr>\n",
       "    <tr>\n",
       "      <th>4</th>\n",
       "      <td>E005</td>\n",
       "      <td>Not sure how long I can keep up with all these...</td>\n",
       "      <td>At Risk</td>\n",
       "      <td>not sure how long i can keep up with all these...</td>\n",
       "      <td>-0.233333</td>\n",
       "      <td>0.000000</td>\n",
       "      <td>0.071429</td>\n",
       "      <td>14</td>\n",
       "      <td>0</td>\n",
       "    </tr>\n",
       "  </tbody>\n",
       "</table>\n",
       "</div>"
      ],
      "text/plain": [
       "  Employee_ID                                         Email_Text  \\\n",
       "0        E001  I feel overwhelmed with the workload and I'm u...   \n",
       "1        E002  Everything is going well, looking forward to t...   \n",
       "2        E003  I'm finding it hard to manage everything, I ne...   \n",
       "3        E004  I'm happy with the tasks and the project, ever...   \n",
       "4        E005  Not sure how long I can keep up with all these...   \n",
       "\n",
       "  Attrition_Label                                      Cleaned_Email  \\\n",
       "0         At Risk  i feel overwhelmed with the workload and im un...   \n",
       "1          Stable  everything is going well looking forward to th...   \n",
       "2         At Risk  im finding it hard to manage everything i need...   \n",
       "3          Stable  im happy with the tasks and the project everyt...   \n",
       "4         At Risk  not sure how long i can keep up with all these...   \n",
       "\n",
       "   Sentiment_polarity  postive_word_ratio  negative_word_ratio  word_count  \\\n",
       "0            0.000000            0.000000             0.083333          12   \n",
       "1            0.000000            0.000000             0.000000          11   \n",
       "2            0.104167            0.000000             0.000000          11   \n",
       "3            0.800000            0.090909             0.000000          11   \n",
       "4           -0.233333            0.000000             0.071429          14   \n",
       "\n",
       "   Stress_Term_Frequency  \n",
       "0                      1  \n",
       "1                      0  \n",
       "2                      0  \n",
       "3                      0  \n",
       "4                      0  "
      ]
     },
     "execution_count": 37,
     "metadata": {},
     "output_type": "execute_result"
    }
   ],
   "source": [
    "df.head()"
   ]
  },
  {
   "cell_type": "code",
   "execution_count": 38,
   "id": "3ecfa263",
   "metadata": {},
   "outputs": [],
   "source": [
    "df[\"Attrition_Label\"]=df['Attrition_Label'].map({'At Risk':1,'Stable':0})"
   ]
  },
  {
   "cell_type": "code",
   "execution_count": 39,
   "id": "60b955ea",
   "metadata": {},
   "outputs": [
    {
     "data": {
      "text/html": [
       "<div>\n",
       "<style scoped>\n",
       "    .dataframe tbody tr th:only-of-type {\n",
       "        vertical-align: middle;\n",
       "    }\n",
       "\n",
       "    .dataframe tbody tr th {\n",
       "        vertical-align: top;\n",
       "    }\n",
       "\n",
       "    .dataframe thead th {\n",
       "        text-align: right;\n",
       "    }\n",
       "</style>\n",
       "<table border=\"1\" class=\"dataframe\">\n",
       "  <thead>\n",
       "    <tr style=\"text-align: right;\">\n",
       "      <th></th>\n",
       "      <th>Employee_ID</th>\n",
       "      <th>Email_Text</th>\n",
       "      <th>Attrition_Label</th>\n",
       "      <th>Cleaned_Email</th>\n",
       "      <th>Sentiment_polarity</th>\n",
       "      <th>postive_word_ratio</th>\n",
       "      <th>negative_word_ratio</th>\n",
       "      <th>word_count</th>\n",
       "      <th>Stress_Term_Frequency</th>\n",
       "    </tr>\n",
       "  </thead>\n",
       "  <tbody>\n",
       "    <tr>\n",
       "      <th>0</th>\n",
       "      <td>E001</td>\n",
       "      <td>I feel overwhelmed with the workload and I'm u...</td>\n",
       "      <td>1</td>\n",
       "      <td>i feel overwhelmed with the workload and im un...</td>\n",
       "      <td>0.000000</td>\n",
       "      <td>0.000000</td>\n",
       "      <td>0.083333</td>\n",
       "      <td>12</td>\n",
       "      <td>1</td>\n",
       "    </tr>\n",
       "    <tr>\n",
       "      <th>1</th>\n",
       "      <td>E002</td>\n",
       "      <td>Everything is going well, looking forward to t...</td>\n",
       "      <td>0</td>\n",
       "      <td>everything is going well looking forward to th...</td>\n",
       "      <td>0.000000</td>\n",
       "      <td>0.000000</td>\n",
       "      <td>0.000000</td>\n",
       "      <td>11</td>\n",
       "      <td>0</td>\n",
       "    </tr>\n",
       "    <tr>\n",
       "      <th>2</th>\n",
       "      <td>E003</td>\n",
       "      <td>I'm finding it hard to manage everything, I ne...</td>\n",
       "      <td>1</td>\n",
       "      <td>im finding it hard to manage everything i need...</td>\n",
       "      <td>0.104167</td>\n",
       "      <td>0.000000</td>\n",
       "      <td>0.000000</td>\n",
       "      <td>11</td>\n",
       "      <td>0</td>\n",
       "    </tr>\n",
       "    <tr>\n",
       "      <th>3</th>\n",
       "      <td>E004</td>\n",
       "      <td>I'm happy with the tasks and the project, ever...</td>\n",
       "      <td>0</td>\n",
       "      <td>im happy with the tasks and the project everyt...</td>\n",
       "      <td>0.800000</td>\n",
       "      <td>0.090909</td>\n",
       "      <td>0.000000</td>\n",
       "      <td>11</td>\n",
       "      <td>0</td>\n",
       "    </tr>\n",
       "    <tr>\n",
       "      <th>4</th>\n",
       "      <td>E005</td>\n",
       "      <td>Not sure how long I can keep up with all these...</td>\n",
       "      <td>1</td>\n",
       "      <td>not sure how long i can keep up with all these...</td>\n",
       "      <td>-0.233333</td>\n",
       "      <td>0.000000</td>\n",
       "      <td>0.071429</td>\n",
       "      <td>14</td>\n",
       "      <td>0</td>\n",
       "    </tr>\n",
       "  </tbody>\n",
       "</table>\n",
       "</div>"
      ],
      "text/plain": [
       "  Employee_ID                                         Email_Text  \\\n",
       "0        E001  I feel overwhelmed with the workload and I'm u...   \n",
       "1        E002  Everything is going well, looking forward to t...   \n",
       "2        E003  I'm finding it hard to manage everything, I ne...   \n",
       "3        E004  I'm happy with the tasks and the project, ever...   \n",
       "4        E005  Not sure how long I can keep up with all these...   \n",
       "\n",
       "   Attrition_Label                                      Cleaned_Email  \\\n",
       "0                1  i feel overwhelmed with the workload and im un...   \n",
       "1                0  everything is going well looking forward to th...   \n",
       "2                1  im finding it hard to manage everything i need...   \n",
       "3                0  im happy with the tasks and the project everyt...   \n",
       "4                1  not sure how long i can keep up with all these...   \n",
       "\n",
       "   Sentiment_polarity  postive_word_ratio  negative_word_ratio  word_count  \\\n",
       "0            0.000000            0.000000             0.083333          12   \n",
       "1            0.000000            0.000000             0.000000          11   \n",
       "2            0.104167            0.000000             0.000000          11   \n",
       "3            0.800000            0.090909             0.000000          11   \n",
       "4           -0.233333            0.000000             0.071429          14   \n",
       "\n",
       "   Stress_Term_Frequency  \n",
       "0                      1  \n",
       "1                      0  \n",
       "2                      0  \n",
       "3                      0  \n",
       "4                      0  "
      ]
     },
     "execution_count": 39,
     "metadata": {},
     "output_type": "execute_result"
    }
   ],
   "source": [
    "df.head()"
   ]
  },
  {
   "cell_type": "code",
   "execution_count": 42,
   "id": "f34ac661",
   "metadata": {},
   "outputs": [],
   "source": [
    "x=df[['Sentiment_polarity','postive_word_ratio','negative_word_ratio','word_count','Stress_Term_Frequency']]"
   ]
  },
  {
   "cell_type": "code",
   "execution_count": 44,
   "id": "cbadbd94",
   "metadata": {},
   "outputs": [],
   "source": [
    "y=df['Attrition_Label']"
   ]
  },
  {
   "cell_type": "code",
   "execution_count": 45,
   "id": "87befd4e",
   "metadata": {},
   "outputs": [],
   "source": [
    "x_train,x_test,y_train,y_test=train_test_split(x,y,test_size=0.2,random_state=42)"
   ]
  },
  {
   "cell_type": "code",
   "execution_count": 46,
   "id": "92fe1c30",
   "metadata": {},
   "outputs": [
    {
     "data": {
      "text/html": [
       "<div>\n",
       "<style scoped>\n",
       "    .dataframe tbody tr th:only-of-type {\n",
       "        vertical-align: middle;\n",
       "    }\n",
       "\n",
       "    .dataframe tbody tr th {\n",
       "        vertical-align: top;\n",
       "    }\n",
       "\n",
       "    .dataframe thead th {\n",
       "        text-align: right;\n",
       "    }\n",
       "</style>\n",
       "<table border=\"1\" class=\"dataframe\">\n",
       "  <thead>\n",
       "    <tr style=\"text-align: right;\">\n",
       "      <th></th>\n",
       "      <th>Sentiment_polarity</th>\n",
       "      <th>postive_word_ratio</th>\n",
       "      <th>negative_word_ratio</th>\n",
       "      <th>word_count</th>\n",
       "      <th>Stress_Term_Frequency</th>\n",
       "    </tr>\n",
       "  </thead>\n",
       "  <tbody>\n",
       "    <tr>\n",
       "      <th>5</th>\n",
       "      <td>0.500000</td>\n",
       "      <td>0.0</td>\n",
       "      <td>0.000000</td>\n",
       "      <td>12</td>\n",
       "      <td>0</td>\n",
       "    </tr>\n",
       "    <tr>\n",
       "      <th>0</th>\n",
       "      <td>0.000000</td>\n",
       "      <td>0.0</td>\n",
       "      <td>0.083333</td>\n",
       "      <td>12</td>\n",
       "      <td>1</td>\n",
       "    </tr>\n",
       "    <tr>\n",
       "      <th>7</th>\n",
       "      <td>0.416667</td>\n",
       "      <td>0.0</td>\n",
       "      <td>0.000000</td>\n",
       "      <td>11</td>\n",
       "      <td>0</td>\n",
       "    </tr>\n",
       "    <tr>\n",
       "      <th>2</th>\n",
       "      <td>0.104167</td>\n",
       "      <td>0.0</td>\n",
       "      <td>0.000000</td>\n",
       "      <td>11</td>\n",
       "      <td>0</td>\n",
       "    </tr>\n",
       "    <tr>\n",
       "      <th>9</th>\n",
       "      <td>0.156250</td>\n",
       "      <td>0.0</td>\n",
       "      <td>0.000000</td>\n",
       "      <td>11</td>\n",
       "      <td>0</td>\n",
       "    </tr>\n",
       "  </tbody>\n",
       "</table>\n",
       "</div>"
      ],
      "text/plain": [
       "   Sentiment_polarity  postive_word_ratio  negative_word_ratio  word_count  \\\n",
       "5            0.500000                 0.0             0.000000          12   \n",
       "0            0.000000                 0.0             0.083333          12   \n",
       "7            0.416667                 0.0             0.000000          11   \n",
       "2            0.104167                 0.0             0.000000          11   \n",
       "9            0.156250                 0.0             0.000000          11   \n",
       "\n",
       "   Stress_Term_Frequency  \n",
       "5                      0  \n",
       "0                      1  \n",
       "7                      0  \n",
       "2                      0  \n",
       "9                      0  "
      ]
     },
     "execution_count": 46,
     "metadata": {},
     "output_type": "execute_result"
    }
   ],
   "source": [
    "x_train.head()"
   ]
  },
  {
   "cell_type": "code",
   "execution_count": 47,
   "id": "6f127373",
   "metadata": {},
   "outputs": [],
   "source": [
    "model=RandomForestClassifier(n_estimators=100,random_state=42)"
   ]
  },
  {
   "cell_type": "code",
   "execution_count": 48,
   "id": "6415e31e",
   "metadata": {},
   "outputs": [
    {
     "data": {
      "text/html": [
       "<style>#sk-container-id-1 {color: black;}#sk-container-id-1 pre{padding: 0;}#sk-container-id-1 div.sk-toggleable {background-color: white;}#sk-container-id-1 label.sk-toggleable__label {cursor: pointer;display: block;width: 100%;margin-bottom: 0;padding: 0.3em;box-sizing: border-box;text-align: center;}#sk-container-id-1 label.sk-toggleable__label-arrow:before {content: \"▸\";float: left;margin-right: 0.25em;color: #696969;}#sk-container-id-1 label.sk-toggleable__label-arrow:hover:before {color: black;}#sk-container-id-1 div.sk-estimator:hover label.sk-toggleable__label-arrow:before {color: black;}#sk-container-id-1 div.sk-toggleable__content {max-height: 0;max-width: 0;overflow: hidden;text-align: left;background-color: #f0f8ff;}#sk-container-id-1 div.sk-toggleable__content pre {margin: 0.2em;color: black;border-radius: 0.25em;background-color: #f0f8ff;}#sk-container-id-1 input.sk-toggleable__control:checked~div.sk-toggleable__content {max-height: 200px;max-width: 100%;overflow: auto;}#sk-container-id-1 input.sk-toggleable__control:checked~label.sk-toggleable__label-arrow:before {content: \"▾\";}#sk-container-id-1 div.sk-estimator input.sk-toggleable__control:checked~label.sk-toggleable__label {background-color: #d4ebff;}#sk-container-id-1 div.sk-label input.sk-toggleable__control:checked~label.sk-toggleable__label {background-color: #d4ebff;}#sk-container-id-1 input.sk-hidden--visually {border: 0;clip: rect(1px 1px 1px 1px);clip: rect(1px, 1px, 1px, 1px);height: 1px;margin: -1px;overflow: hidden;padding: 0;position: absolute;width: 1px;}#sk-container-id-1 div.sk-estimator {font-family: monospace;background-color: #f0f8ff;border: 1px dotted black;border-radius: 0.25em;box-sizing: border-box;margin-bottom: 0.5em;}#sk-container-id-1 div.sk-estimator:hover {background-color: #d4ebff;}#sk-container-id-1 div.sk-parallel-item::after {content: \"\";width: 100%;border-bottom: 1px solid gray;flex-grow: 1;}#sk-container-id-1 div.sk-label:hover label.sk-toggleable__label {background-color: #d4ebff;}#sk-container-id-1 div.sk-serial::before {content: \"\";position: absolute;border-left: 1px solid gray;box-sizing: border-box;top: 0;bottom: 0;left: 50%;z-index: 0;}#sk-container-id-1 div.sk-serial {display: flex;flex-direction: column;align-items: center;background-color: white;padding-right: 0.2em;padding-left: 0.2em;position: relative;}#sk-container-id-1 div.sk-item {position: relative;z-index: 1;}#sk-container-id-1 div.sk-parallel {display: flex;align-items: stretch;justify-content: center;background-color: white;position: relative;}#sk-container-id-1 div.sk-item::before, #sk-container-id-1 div.sk-parallel-item::before {content: \"\";position: absolute;border-left: 1px solid gray;box-sizing: border-box;top: 0;bottom: 0;left: 50%;z-index: -1;}#sk-container-id-1 div.sk-parallel-item {display: flex;flex-direction: column;z-index: 1;position: relative;background-color: white;}#sk-container-id-1 div.sk-parallel-item:first-child::after {align-self: flex-end;width: 50%;}#sk-container-id-1 div.sk-parallel-item:last-child::after {align-self: flex-start;width: 50%;}#sk-container-id-1 div.sk-parallel-item:only-child::after {width: 0;}#sk-container-id-1 div.sk-dashed-wrapped {border: 1px dashed gray;margin: 0 0.4em 0.5em 0.4em;box-sizing: border-box;padding-bottom: 0.4em;background-color: white;}#sk-container-id-1 div.sk-label label {font-family: monospace;font-weight: bold;display: inline-block;line-height: 1.2em;}#sk-container-id-1 div.sk-label-container {text-align: center;}#sk-container-id-1 div.sk-container {/* jupyter's `normalize.less` sets `[hidden] { display: none; }` but bootstrap.min.css set `[hidden] { display: none !important; }` so we also need the `!important` here to be able to override the default hidden behavior on the sphinx rendered scikit-learn.org. See: https://github.com/scikit-learn/scikit-learn/issues/21755 */display: inline-block !important;position: relative;}#sk-container-id-1 div.sk-text-repr-fallback {display: none;}</style><div id=\"sk-container-id-1\" class=\"sk-top-container\"><div class=\"sk-text-repr-fallback\"><pre>RandomForestClassifier(random_state=42)</pre><b>In a Jupyter environment, please rerun this cell to show the HTML representation or trust the notebook. <br />On GitHub, the HTML representation is unable to render, please try loading this page with nbviewer.org.</b></div><div class=\"sk-container\" hidden><div class=\"sk-item\"><div class=\"sk-estimator sk-toggleable\"><input class=\"sk-toggleable__control sk-hidden--visually\" id=\"sk-estimator-id-1\" type=\"checkbox\" checked><label for=\"sk-estimator-id-1\" class=\"sk-toggleable__label sk-toggleable__label-arrow\">RandomForestClassifier</label><div class=\"sk-toggleable__content\"><pre>RandomForestClassifier(random_state=42)</pre></div></div></div></div></div>"
      ],
      "text/plain": [
       "RandomForestClassifier(random_state=42)"
      ]
     },
     "execution_count": 48,
     "metadata": {},
     "output_type": "execute_result"
    }
   ],
   "source": [
    "model.fit(x_train,y_train)"
   ]
  },
  {
   "cell_type": "code",
   "execution_count": 49,
   "id": "ca65a38e",
   "metadata": {},
   "outputs": [],
   "source": [
    "y_pred=model.predict(x_test)"
   ]
  },
  {
   "cell_type": "code",
   "execution_count": 51,
   "id": "25c6d623",
   "metadata": {},
   "outputs": [
    {
     "name": "stdout",
     "output_type": "stream",
     "text": [
      "[0 1]\n"
     ]
    }
   ],
   "source": [
    "print(y_pred)"
   ]
  },
  {
   "cell_type": "code",
   "execution_count": 52,
   "id": "70cc45f0",
   "metadata": {},
   "outputs": [],
   "source": [
    "accuracy=accuracy_score(y_test,y_pred)"
   ]
  },
  {
   "cell_type": "code",
   "execution_count": 53,
   "id": "f876a485",
   "metadata": {},
   "outputs": [
    {
     "name": "stdout",
     "output_type": "stream",
     "text": [
      "0.0\n"
     ]
    }
   ],
   "source": [
    "print(accuracy*100)"
   ]
  },
  {
   "cell_type": "code",
   "execution_count": 54,
   "id": "0a06de73",
   "metadata": {},
   "outputs": [
    {
     "name": "stdout",
     "output_type": "stream",
     "text": [
      "              precision    recall  f1-score   support\n",
      "\n",
      "           0       0.00      0.00      0.00       1.0\n",
      "           1       0.00      0.00      0.00       1.0\n",
      "\n",
      "    accuracy                           0.00       2.0\n",
      "   macro avg       0.00      0.00      0.00       2.0\n",
      "weighted avg       0.00      0.00      0.00       2.0\n",
      "\n"
     ]
    }
   ],
   "source": [
    "print(classification_report(y_test,y_pred))"
   ]
  },
  {
   "cell_type": "code",
   "execution_count": 55,
   "id": "862399c0",
   "metadata": {},
   "outputs": [],
   "source": [
    "explainer = shap.TreeExplainer(model)"
   ]
  },
  {
   "cell_type": "code",
   "execution_count": 57,
   "id": "08b869ee",
   "metadata": {},
   "outputs": [],
   "source": [
    "shap_values = explainer.shap_values(x_test)\n"
   ]
  },
  {
   "cell_type": "code",
   "execution_count": 59,
   "id": "9f5c0326",
   "metadata": {
    "scrolled": true
   },
   "outputs": [
    {
     "name": "stderr",
     "output_type": "stream",
     "text": [
      "C:\\Users\\SEC\\anaconda3\\Lib\\site-packages\\shap\\plots\\_beeswarm.py:1153: UserWarning: The figure layout has changed to tight\n",
      "  pl.tight_layout()\n",
      "C:\\Users\\SEC\\anaconda3\\Lib\\site-packages\\shap\\plots\\_beeswarm.py:761: UserWarning: The figure layout has changed to tight\n",
      "  pl.tight_layout(pad=0, w_pad=0, h_pad=0.0)\n"
     ]
    },
    {
     "data": {
      "text/plain": [
       "<Figure size 640x480 with 0 Axes>"
      ]
     },
     "metadata": {},
     "output_type": "display_data"
    },
    {
     "data": {
      "image/png": "[encoded data removed]",
      "text/plain": [
       "<Figure size 1150x660 with 1 Axes>"
      ]
     },
     "metadata": {},
     "output_type": "display_data"
    }
   ],
   "source": [
    "shap.summary_plot(shap_values, x_test)"
   ]
  },
  {
   "cell_type": "code",
   "execution_count": 80,
   "id": "6dcccb01",
   "metadata": {},
   "outputs": [],
   "source": [
    "sample_email = \"I feel happy and excited.\""
   ]
  },
  {
   "cell_type": "code",
   "execution_count": 81,
   "id": "bc974cf4",
   "metadata": {},
   "outputs": [],
   "source": [
    "sample_email_cleaned=clean_text(sample_email)"
   ]
  },
  {
   "cell_type": "code",
   "execution_count": 82,
   "id": "2759e1a6",
   "metadata": {},
   "outputs": [
    {
     "name": "stdout",
     "output_type": "stream",
     "text": [
      "i feel happy and excited\n"
     ]
    }
   ],
   "source": [
    "print(sample_email_cleaned)"
   ]
  },
  {
   "cell_type": "code",
   "execution_count": 83,
   "id": "f6f5aac7",
   "metadata": {},
   "outputs": [],
   "source": [
    "sample_sentiment=get_sentiment(sample_email_cleaned)"
   ]
  },
  {
   "cell_type": "code",
   "execution_count": 84,
   "id": "e7ffb646",
   "metadata": {},
   "outputs": [],
   "source": [
    "sample_positive_ratio, sample_negative_ratio = get_word_ratios(sample_email_cleaned)"
   ]
  },
  {
   "cell_type": "code",
   "execution_count": 85,
   "id": "699792e4",
   "metadata": {},
   "outputs": [],
   "source": [
    "sample_word_count = len(sample_email_cleaned.split())"
   ]
  },
  {
   "cell_type": "code",
   "execution_count": 86,
   "id": "efb5c723",
   "metadata": {},
   "outputs": [],
   "source": [
    "sample_stress_term_freq = sum(1 for word in sample_email_cleaned.split() if word in stress_terms)\n"
   ]
  },
  {
   "cell_type": "code",
   "execution_count": 87,
   "id": "33e89450",
   "metadata": {},
   "outputs": [],
   "source": [
    "sample_data = pd.DataFrame([[sample_sentiment, sample_positive_ratio, sample_negative_ratio, sample_word_count, sample_stress_term_freq]],\n",
    "                           columns=['Sentiment_Polarity', 'Positive_Word_Ratio', 'Negative_Word_Ratio', 'Word_Count', 'Stress_Term_Frequency'])\n"
   ]
  },
  {
   "cell_type": "code",
   "execution_count": 88,
   "id": "403b7d81",
   "metadata": {},
   "outputs": [
    {
     "data": {
      "text/html": [
       "<div>\n",
       "<style scoped>\n",
       "    .dataframe tbody tr th:only-of-type {\n",
       "        vertical-align: middle;\n",
       "    }\n",
       "\n",
       "    .dataframe tbody tr th {\n",
       "        vertical-align: top;\n",
       "    }\n",
       "\n",
       "    .dataframe thead th {\n",
       "        text-align: right;\n",
       "    }\n",
       "</style>\n",
       "<table border=\"1\" class=\"dataframe\">\n",
       "  <thead>\n",
       "    <tr style=\"text-align: right;\">\n",
       "      <th></th>\n",
       "      <th>Sentiment_Polarity</th>\n",
       "      <th>Positive_Word_Ratio</th>\n",
       "      <th>Negative_Word_Ratio</th>\n",
       "      <th>Word_Count</th>\n",
       "      <th>Stress_Term_Frequency</th>\n",
       "    </tr>\n",
       "  </thead>\n",
       "  <tbody>\n",
       "    <tr>\n",
       "      <th>0</th>\n",
       "      <td>0.5875</td>\n",
       "      <td>0.4</td>\n",
       "      <td>0.0</td>\n",
       "      <td>5</td>\n",
       "      <td>0</td>\n",
       "    </tr>\n",
       "  </tbody>\n",
       "</table>\n",
       "</div>"
      ],
      "text/plain": [
       "   Sentiment_Polarity  Positive_Word_Ratio  Negative_Word_Ratio  Word_Count  \\\n",
       "0              0.5875                  0.4                  0.0           5   \n",
       "\n",
       "   Stress_Term_Frequency  \n",
       "0                      0  "
      ]
     },
     "execution_count": 88,
     "metadata": {},
     "output_type": "execute_result"
    }
   ],
   "source": [
    "sample_data.head()"
   ]
  },
  {
   "cell_type": "code",
   "execution_count": 89,
   "id": "b59aa7e8",
   "metadata": {},
   "outputs": [],
   "source": [
    "sample_data = pd.DataFrame([[sample_sentiment, sample_positive_ratio, sample_negative_ratio, sample_word_count, sample_stress_term_freq]],\n",
    "                           columns=['Sentiment_polarity', 'postive_word_ratio', 'negative_word_ratio', 'word_count', 'Stress_Term_Frequency'])\n",
    "\n",
    "# Ensure the column names match the training data exactly\n",
    "sample_data = sample_data.rename(columns={\n",
    "    'postive_word_ratio': 'postive_word_ratio',  # No change\n",
    "    'negative_word_ratio': 'negative_word_ratio',  # No change\n",
    "    'word_count': 'word_count',  # No change\n",
    "    'Sentiment_polarity': 'Sentiment_polarity'  # No change\n",
    "})"
   ]
  },
  {
   "cell_type": "code",
   "execution_count": 90,
   "id": "60c4fe92",
   "metadata": {},
   "outputs": [
    {
     "name": "stdout",
     "output_type": "stream",
     "text": [
      "[0]\n"
     ]
    }
   ],
   "source": [
    "sample_prediction = model.predict(sample_data)\n",
    "print(sample_prediction)"
   ]
  },
  {
   "cell_type": "code",
   "execution_count": 91,
   "id": "f5a2e97b",
   "metadata": {},
   "outputs": [
    {
     "data": {
      "image/png": "[encoded data removed]",
      "text/plain": [
       "<Figure size 800x600 with 1 Axes>"
      ]
     },
     "metadata": {},
     "output_type": "display_data"
    }
   ],
   "source": [
    "plt.figure(figsize=(8, 6))\n",
    "sns.histplot(df['Sentiment_polarity'], kde=True, bins=10)\n",
    "plt.title('Distribution of Sentiment Polarity')\n",
    "plt.xlabel('Sentiment Polarity')\n",
    "plt.ylabel('Frequency')\n",
    "plt.show()"
   ]
  },
  {
   "cell_type": "code",
   "execution_count": null,
   "id": "7f280056",
   "metadata": {},
   "outputs": [],
   "source": []
  }
 ],
 "metadata": {
  "kernelspec": {
   "display_name": "Python 3 (ipykernel)",
   "language": "python",
   "name": "python3"
  },
  "language_info": {
   "codemirror_mode": {
    "name": "ipython",
    "version": 3
   },
   "file_extension": ".py",
   "mimetype": "text/x-python",
   "name": "python",
   "nbconvert_exporter": "python",
   "pygments_lexer": "ipython3",
   "version": "3.11.5"
  }
 },
 "nbformat": 4,
 "nbformat_minor": 5
}
